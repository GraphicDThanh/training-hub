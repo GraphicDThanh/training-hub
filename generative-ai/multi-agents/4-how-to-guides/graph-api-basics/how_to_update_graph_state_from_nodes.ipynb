{
 "cells": [
  {
   "cell_type": "markdown",
   "metadata": {},
   "source": [
    "# How to update graph state from nodes"
   ]
  },
  {
   "cell_type": "code",
   "execution_count": 4,
   "metadata": {},
   "outputs": [],
   "source": [
    "from langchain_core.messages import AIMessage, AnyMessage, HumanMessage\n",
    "from langgraph.graph import START, MessagesState, StateGraph\n",
    "from langgraph.graph.message import add_messages\n",
    "from typing_extensions import Annotated, TypedDict\n"
   ]
  },
  {
   "cell_type": "code",
   "execution_count": 6,
   "metadata": {},
   "outputs": [],
   "source": [
    "def init_graph():\n",
    "    class State(TypedDict):\n",
    "        messages: list[AnyMessage]\n",
    "        extra_field: int\n",
    "\n",
    "\n",
    "    def node(state: State):\n",
    "        messages = state[\"messages\"]\n",
    "        new_message = AIMessage(\"Hello!\")\n",
    "\n",
    "        return {\"messages\": messages + [new_message], \"extra_field\": 10}\n",
    "\n",
    "    graph_builder = StateGraph(State)\n",
    "    graph_builder.add_node(node)\n",
    "    graph_builder.set_entry_point(\"node\")\n",
    "    graph = graph_builder.compile()\n",
    "    return graph\n"
   ]
  },
  {
   "cell_type": "code",
   "execution_count": 7,
   "metadata": {},
   "outputs": [
    {
     "data": {
      "image/png": "[encoded data removed]",
      "text/plain": [
       "<IPython.core.display.Image object>"
      ]
     },
     "metadata": {},
     "output_type": "display_data"
    }
   ],
   "source": [
    "from IPython.display import Image, display\n",
    "display(Image(init_graph().get_graph().draw_mermaid_png()))"
   ]
  },
  {
   "cell_type": "markdown",
   "metadata": {},
   "source": [
    "## Graph"
   ]
  },
  {
   "cell_type": "code",
   "execution_count": 9,
   "metadata": {},
   "outputs": [
    {
     "name": "stdout",
     "output_type": "stream",
     "text": [
      "================================\u001b[1m Human Message \u001b[0m=================================\n",
      "\n",
      "Hi\n",
      "==================================\u001b[1m Ai Message \u001b[0m==================================\n",
      "\n",
      "Hello!\n"
     ]
    }
   ],
   "source": [
    "def example_graph():\n",
    "    graph = init_graph()\n",
    "    result = graph.invoke({\"messages\": [HumanMessage(\"Hi\")]})\n",
    "    for message in result[\"messages\"]:\n",
    "        message.pretty_print()\n",
    "\n",
    "example_graph()"
   ]
  },
  {
   "cell_type": "markdown",
   "metadata": {},
   "source": [
    "## Graph State with Reducer add"
   ]
  },
  {
   "cell_type": "code",
   "execution_count": 10,
   "metadata": {},
   "outputs": [
    {
     "name": "stdout",
     "output_type": "stream",
     "text": [
      "================================\u001b[1m Human Message \u001b[0m=================================\n",
      "\n",
      "Hi\n",
      "==================================\u001b[1m Ai Message \u001b[0m==================================\n",
      "\n",
      "Hello!\n"
     ]
    }
   ],
   "source": [
    "\n",
    "def example_graph_state_with_reducer_add():\n",
    "    def add(left, right):\n",
    "        \"\"\"Can also import `add` from the `operator` built-in.\"\"\"\n",
    "        return left + right\n",
    "\n",
    "    class State(TypedDict):\n",
    "        messages: Annotated[list[AnyMessage], add]\n",
    "        extra_field: int\n",
    "\n",
    "    def node(state: State):\n",
    "        new_message = AIMessage(\"Hello!\")\n",
    "        return {\"messages\": [new_message], \"extra_field\": 10}\n",
    "\n",
    "    graph = StateGraph(State).add_node(node).add_edge(START, \"node\").compile()\n",
    "    result = graph.invoke({\"messages\": [HumanMessage(\"Hi\")]})\n",
    "    for message in result[\"messages\"]:\n",
    "        message.pretty_print()\n",
    "\n",
    "example_graph_state_with_reducer_add()"
   ]
  },
  {
   "cell_type": "markdown",
   "metadata": {},
   "source": [
    "## Graph State with Reducer add_messages"
   ]
  },
  {
   "cell_type": "code",
   "execution_count": 11,
   "metadata": {},
   "outputs": [
    {
     "name": "stdout",
     "output_type": "stream",
     "text": [
      "================================\u001b[1m Human Message \u001b[0m=================================\n",
      "\n",
      "Hi\n",
      "==================================\u001b[1m Ai Message \u001b[0m==================================\n",
      "\n",
      "Hello!\n"
     ]
    }
   ],
   "source": [
    "\n",
    "def example_graph_state_with_reducer_add_messages():\n",
    "    # https://langchain-ai.github.io/langgraph/reference/graphs/#langgraph.graph.message.add_messages\n",
    "    def add(left, right):\n",
    "        \"\"\"Can also import `add` from the `operator` built-in.\"\"\"\n",
    "        return left + right\n",
    "\n",
    "    class State(TypedDict):\n",
    "        messages: Annotated[list[AnyMessage], add_messages]\n",
    "        extra_field: int\n",
    "\n",
    "    def node(state: State):\n",
    "        new_message = AIMessage(\"Hello!\")\n",
    "        return {\"messages\": [new_message], \"extra_field\": 10}\n",
    "\n",
    "    graph = StateGraph(State).add_node(node).add_edge(START, \"node\").compile()\n",
    "    # accept format short-hands for messages format\n",
    "    input_message = {\"role\": \"user\", \"content\": \"Hi\"}\n",
    "    result = graph.invoke({\"messages\": [input_message]})\n",
    "    for message in result[\"messages\"]:\n",
    "        message.pretty_print()\n",
    "\n",
    "example_graph_state_with_reducer_add_messages()"
   ]
  },
  {
   "cell_type": "markdown",
   "metadata": {},
   "source": [
    "## Graph with MessagesState"
   ]
  },
  {
   "cell_type": "code",
   "execution_count": 12,
   "metadata": {},
   "outputs": [
    {
     "name": "stdout",
     "output_type": "stream",
     "text": [
      "================================\u001b[1m Human Message \u001b[0m=================================\n",
      "\n",
      "Hi\n",
      "==================================\u001b[1m Ai Message \u001b[0m==================================\n",
      "\n",
      "Hello\n"
     ]
    }
   ],
   "source": [
    "\n",
    "def example_graph_messages_state():\n",
    "    class State(MessagesState):\n",
    "        extra_field: int\n",
    "\n",
    "    def node(state: State):\n",
    "        return {\"messages\": [{\"role\": \"ai\", \"content\": \"Hello\"}], \"extra_field\": 10}\n",
    "\n",
    "    graph = StateGraph(State).add_node(node).add_edge(START, \"node\").compile()\n",
    "    result = graph.invoke({\"messages\": [{\"role\": \"user\", \"content\": \"Hi\"}]})\n",
    "    for message in result[\"messages\"]:\n",
    "        message.pretty_print()\n",
    "\n",
    "example_graph_messages_state()"
   ]
  }
 ],
 "metadata": {
  "kernelspec": {
   "display_name": ".venv",
   "language": "python",
   "name": "python3"
  },
  "language_info": {
   "codemirror_mode": {
    "name": "ipython",
    "version": 3
   },
   "file_extension": ".py",
   "mimetype": "text/x-python",
   "name": "python",
   "nbconvert_exporter": "python",
   "pygments_lexer": "ipython3",
   "version": "3.13.1"
  }
 },
 "nbformat": 4,
 "nbformat_minor": 2
}
