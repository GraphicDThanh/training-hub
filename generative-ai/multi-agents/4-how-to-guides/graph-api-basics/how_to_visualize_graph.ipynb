{
 "cells": [
  {
   "cell_type": "markdown",
   "metadata": {},
   "source": [
    "# How to Visualize graph\n",
    "https://langchain-ai.github.io/langgraph/how-tos/visualization/ "
   ]
  },
  {
   "cell_type": "code",
   "execution_count": 8,
   "metadata": {},
   "outputs": [],
   "source": [
    "from langchain_core.messages import AIMessage, AnyMessage\n",
    "from langgraph.graph import StateGraph\n",
    "from typing_extensions import TypedDict\n",
    "\n",
    "def init_graph():\n",
    "    class State(TypedDict):\n",
    "        messages: list[AnyMessage]\n",
    "        extra_field: int\n",
    "\n",
    "\n",
    "    def node(state: State):\n",
    "        messages = state[\"messages\"]\n",
    "        new_message = AIMessage(\"Hello!\")\n",
    "\n",
    "        return {\"messages\": messages + [new_message], \"extra_field\": 10}\n",
    "\n",
    "    graph_builder = StateGraph(State)\n",
    "    graph_builder.add_node(node)\n",
    "    graph_builder.set_entry_point(\"node\")\n",
    "    graph = graph_builder.compile()\n",
    "    return graph\n",
    "\n",
    "graph = init_graph()"
   ]
  },
  {
   "cell_type": "markdown",
   "metadata": {},
   "source": [
    "## Convert graph to Mermaid syntax\n",
    "- Step 1: print the graph mermaid code\n",
    "    `print(graph.get_graph().draw_mermaid())`\n",
    "- Step 2: See your graph with https://mermaid.live/ \n",
    "- Step 3: Get your graph image with https://mermaid.ink/"
   ]
  },
  {
   "cell_type": "code",
   "execution_count": 2,
   "metadata": {},
   "outputs": [
    {
     "name": "stdout",
     "output_type": "stream",
     "text": [
      "%%{init: {'flowchart': {'curve': 'linear'}}}%%\n",
      "graph TD;\n",
      "\t__start__([<p>__start__</p>]):::first\n",
      "\tnode([node]):::last\n",
      "\t__start__ --> node;\n",
      "\tclassDef default fill:#f2f0ff,line-height:1.2\n",
      "\tclassDef first fill-opacity:0\n",
      "\tclassDef last fill:#bfb6fc\n",
      "\n"
     ]
    }
   ],
   "source": [
    "print(graph.get_graph().draw_mermaid())"
   ]
  },
  {
   "cell_type": "markdown",
   "metadata": {},
   "source": [
    "## Generate graph with `draw_mermaid_png()` which uses Mermaid's API"
   ]
  },
  {
   "cell_type": "code",
   "execution_count": 4,
   "metadata": {},
   "outputs": [
    {
     "data": {
      "image/png": "[encoded data removed]",
      "text/plain": [
       "<IPython.core.display.Image object>"
      ]
     },
     "metadata": {},
     "output_type": "display_data"
    }
   ],
   "source": [
    "from IPython.display import Image, display\n",
    "from langchain_core.runnables.graph import CurveStyle, MermaidDrawMethod, NodeStyles\n",
    "\n",
    "# Show graph\n",
    "display(\n",
    "    Image(\n",
    "        graph.get_graph().draw_mermaid_png(\n",
    "            draw_method=MermaidDrawMethod.API,\n",
    "        )\n",
    "    )\n",
    ")"
   ]
  },
  {
   "cell_type": "markdown",
   "metadata": {},
   "source": [
    "## Use Mermaid + Pyppeteer"
   ]
  },
  {
   "cell_type": "code",
   "execution_count": 6,
   "metadata": {},
   "outputs": [],
   "source": [
    "!uv add --group jupyter --quiet pyppeteer\n",
    "!uv add --group jupyter --quiet nest_asyncio"
   ]
  },
  {
   "cell_type": "code",
   "execution_count": 9,
   "metadata": {},
   "outputs": [
    {
     "ename": "ImportError",
     "evalue": "Install Pyppeteer to use the Pyppeteer method: `pip install pyppeteer`.",
     "output_type": "error",
     "traceback": [
      "\u001b[0;31m---------------------------------------------------------------------------\u001b[0m",
      "\u001b[0;31mModuleNotFoundError\u001b[0m                       Traceback (most recent call last)",
      "File \u001b[0;32m~/Agility/Training/thanh.nguyendiem/multi-agents-training/3-tutorials/workflow_and_agents/.venv/lib/python3.11/site-packages/langchain_core/runnables/graph_mermaid.py:237\u001b[0m, in \u001b[0;36m_render_mermaid_using_pyppeteer\u001b[0;34m(mermaid_syntax, output_file_path, background_color, padding, device_scale_factor)\u001b[0m\n\u001b[1;32m    236\u001b[0m \u001b[38;5;28;01mtry\u001b[39;00m:\n\u001b[0;32m--> 237\u001b[0m     \u001b[38;5;28;01mfrom\u001b[39;00m\u001b[38;5;250m \u001b[39m\u001b[38;5;21;01mpyppeteer\u001b[39;00m\u001b[38;5;250m \u001b[39m\u001b[38;5;28;01mimport\u001b[39;00m launch  \u001b[38;5;66;03m# type: ignore[import]\u001b[39;00m\n\u001b[1;32m    238\u001b[0m \u001b[38;5;28;01mexcept\u001b[39;00m \u001b[38;5;167;01mImportError\u001b[39;00m \u001b[38;5;28;01mas\u001b[39;00m e:\n",
      "\u001b[0;31mModuleNotFoundError\u001b[0m: No module named 'pyppeteer'",
      "\nThe above exception was the direct cause of the following exception:\n",
      "\u001b[0;31mImportError\u001b[0m                               Traceback (most recent call last)",
      "Cell \u001b[0;32mIn[9], line 8\u001b[0m\n\u001b[1;32m      2\u001b[0m \u001b[38;5;28;01mfrom\u001b[39;00m\u001b[38;5;250m \u001b[39m\u001b[38;5;21;01mIPython\u001b[39;00m\u001b[38;5;21;01m.\u001b[39;00m\u001b[38;5;21;01mdisplay\u001b[39;00m\u001b[38;5;250m \u001b[39m\u001b[38;5;28;01mimport\u001b[39;00m Image, display\n\u001b[1;32m      4\u001b[0m nest_asyncio\u001b[38;5;241m.\u001b[39mapply()  \u001b[38;5;66;03m# Required for Jupyter Notebook to run async functions\u001b[39;00m\n\u001b[1;32m      6\u001b[0m display(\n\u001b[1;32m      7\u001b[0m     Image(\n\u001b[0;32m----> 8\u001b[0m         \u001b[43mgraph\u001b[49m\u001b[38;5;241;43m.\u001b[39;49m\u001b[43mget_graph\u001b[49m\u001b[43m(\u001b[49m\u001b[43m)\u001b[49m\u001b[38;5;241;43m.\u001b[39;49m\u001b[43mdraw_mermaid_png\u001b[49m\u001b[43m(\u001b[49m\n\u001b[1;32m      9\u001b[0m \u001b[43m            \u001b[49m\u001b[43mcurve_style\u001b[49m\u001b[38;5;241;43m=\u001b[39;49m\u001b[43mCurveStyle\u001b[49m\u001b[38;5;241;43m.\u001b[39;49m\u001b[43mLINEAR\u001b[49m\u001b[43m,\u001b[49m\n\u001b[1;32m     10\u001b[0m \u001b[43m            \u001b[49m\u001b[43mnode_colors\u001b[49m\u001b[38;5;241;43m=\u001b[39;49m\u001b[43mNodeStyles\u001b[49m\u001b[43m(\u001b[49m\u001b[43mfirst\u001b[49m\u001b[38;5;241;43m=\u001b[39;49m\u001b[38;5;124;43m\"\u001b[39;49m\u001b[38;5;124;43m#ffdfba\u001b[39;49m\u001b[38;5;124;43m\"\u001b[39;49m\u001b[43m,\u001b[49m\u001b[43m \u001b[49m\u001b[43mlast\u001b[49m\u001b[38;5;241;43m=\u001b[39;49m\u001b[38;5;124;43m\"\u001b[39;49m\u001b[38;5;124;43m#baffc9\u001b[39;49m\u001b[38;5;124;43m\"\u001b[39;49m\u001b[43m,\u001b[49m\u001b[43m \u001b[49m\u001b[43mdefault\u001b[49m\u001b[38;5;241;43m=\u001b[39;49m\u001b[38;5;124;43m\"\u001b[39;49m\u001b[38;5;124;43m#fad7de\u001b[39;49m\u001b[38;5;124;43m\"\u001b[39;49m\u001b[43m)\u001b[49m\u001b[43m,\u001b[49m\n\u001b[1;32m     11\u001b[0m \u001b[43m            \u001b[49m\u001b[43mwrap_label_n_words\u001b[49m\u001b[38;5;241;43m=\u001b[39;49m\u001b[38;5;241;43m9\u001b[39;49m\u001b[43m,\u001b[49m\n\u001b[1;32m     12\u001b[0m \u001b[43m            \u001b[49m\u001b[43moutput_file_path\u001b[49m\u001b[38;5;241;43m=\u001b[39;49m\u001b[38;5;28;43;01mNone\u001b[39;49;00m\u001b[43m,\u001b[49m\n\u001b[1;32m     13\u001b[0m \u001b[43m            \u001b[49m\u001b[43mdraw_method\u001b[49m\u001b[38;5;241;43m=\u001b[39;49m\u001b[43mMermaidDrawMethod\u001b[49m\u001b[38;5;241;43m.\u001b[39;49m\u001b[43mPYPPETEER\u001b[49m\u001b[43m,\u001b[49m\n\u001b[1;32m     14\u001b[0m \u001b[43m            \u001b[49m\u001b[43mbackground_color\u001b[49m\u001b[38;5;241;43m=\u001b[39;49m\u001b[38;5;124;43m\"\u001b[39;49m\u001b[38;5;124;43mwhite\u001b[39;49m\u001b[38;5;124;43m\"\u001b[39;49m\u001b[43m,\u001b[49m\n\u001b[1;32m     15\u001b[0m \u001b[43m            \u001b[49m\u001b[43mpadding\u001b[49m\u001b[38;5;241;43m=\u001b[39;49m\u001b[38;5;241;43m10\u001b[39;49m\u001b[43m,\u001b[49m\n\u001b[1;32m     16\u001b[0m \u001b[43m        \u001b[49m\u001b[43m)\u001b[49m\n\u001b[1;32m     17\u001b[0m     )\n\u001b[1;32m     18\u001b[0m )\n",
      "File \u001b[0;32m~/Agility/Training/thanh.nguyendiem/multi-agents-training/3-tutorials/workflow_and_agents/.venv/lib/python3.11/site-packages/langchain_core/runnables/graph.py:630\u001b[0m, in \u001b[0;36mGraph.draw_mermaid_png\u001b[0;34m(self, curve_style, node_colors, wrap_label_n_words, output_file_path, draw_method, background_color, padding)\u001b[0m\n\u001b[1;32m    623\u001b[0m \u001b[38;5;28;01mfrom\u001b[39;00m\u001b[38;5;250m \u001b[39m\u001b[38;5;21;01mlangchain_core\u001b[39;00m\u001b[38;5;21;01m.\u001b[39;00m\u001b[38;5;21;01mrunnables\u001b[39;00m\u001b[38;5;21;01m.\u001b[39;00m\u001b[38;5;21;01mgraph_mermaid\u001b[39;00m\u001b[38;5;250m \u001b[39m\u001b[38;5;28;01mimport\u001b[39;00m draw_mermaid_png\n\u001b[1;32m    625\u001b[0m mermaid_syntax \u001b[38;5;241m=\u001b[39m \u001b[38;5;28mself\u001b[39m\u001b[38;5;241m.\u001b[39mdraw_mermaid(\n\u001b[1;32m    626\u001b[0m     curve_style\u001b[38;5;241m=\u001b[39mcurve_style,\n\u001b[1;32m    627\u001b[0m     node_colors\u001b[38;5;241m=\u001b[39mnode_colors,\n\u001b[1;32m    628\u001b[0m     wrap_label_n_words\u001b[38;5;241m=\u001b[39mwrap_label_n_words,\n\u001b[1;32m    629\u001b[0m )\n\u001b[0;32m--> 630\u001b[0m \u001b[38;5;28;01mreturn\u001b[39;00m \u001b[43mdraw_mermaid_png\u001b[49m\u001b[43m(\u001b[49m\n\u001b[1;32m    631\u001b[0m \u001b[43m    \u001b[49m\u001b[43mmermaid_syntax\u001b[49m\u001b[38;5;241;43m=\u001b[39;49m\u001b[43mmermaid_syntax\u001b[49m\u001b[43m,\u001b[49m\n\u001b[1;32m    632\u001b[0m \u001b[43m    \u001b[49m\u001b[43moutput_file_path\u001b[49m\u001b[38;5;241;43m=\u001b[39;49m\u001b[43moutput_file_path\u001b[49m\u001b[43m,\u001b[49m\n\u001b[1;32m    633\u001b[0m \u001b[43m    \u001b[49m\u001b[43mdraw_method\u001b[49m\u001b[38;5;241;43m=\u001b[39;49m\u001b[43mdraw_method\u001b[49m\u001b[43m,\u001b[49m\n\u001b[1;32m    634\u001b[0m \u001b[43m    \u001b[49m\u001b[43mbackground_color\u001b[49m\u001b[38;5;241;43m=\u001b[39;49m\u001b[43mbackground_color\u001b[49m\u001b[43m,\u001b[49m\n\u001b[1;32m    635\u001b[0m \u001b[43m    \u001b[49m\u001b[43mpadding\u001b[49m\u001b[38;5;241;43m=\u001b[39;49m\u001b[43mpadding\u001b[49m\u001b[43m,\u001b[49m\n\u001b[1;32m    636\u001b[0m \u001b[43m\u001b[49m\u001b[43m)\u001b[49m\n",
      "File \u001b[0;32m~/Agility/Training/thanh.nguyendiem/multi-agents-training/3-tutorials/workflow_and_agents/.venv/lib/python3.11/site-packages/langchain_core/runnables/graph_mermaid.py:208\u001b[0m, in \u001b[0;36mdraw_mermaid_png\u001b[0;34m(mermaid_syntax, output_file_path, draw_method, background_color, padding)\u001b[0m\n\u001b[1;32m    205\u001b[0m \u001b[38;5;28;01mif\u001b[39;00m draw_method \u001b[38;5;241m==\u001b[39m MermaidDrawMethod\u001b[38;5;241m.\u001b[39mPYPPETEER:\n\u001b[1;32m    206\u001b[0m     \u001b[38;5;28;01mimport\u001b[39;00m\u001b[38;5;250m \u001b[39m\u001b[38;5;21;01masyncio\u001b[39;00m\n\u001b[0;32m--> 208\u001b[0m     img_bytes \u001b[38;5;241m=\u001b[39m \u001b[43masyncio\u001b[49m\u001b[38;5;241;43m.\u001b[39;49m\u001b[43mrun\u001b[49m\u001b[43m(\u001b[49m\n\u001b[1;32m    209\u001b[0m \u001b[43m        \u001b[49m\u001b[43m_render_mermaid_using_pyppeteer\u001b[49m\u001b[43m(\u001b[49m\n\u001b[1;32m    210\u001b[0m \u001b[43m            \u001b[49m\u001b[43mmermaid_syntax\u001b[49m\u001b[43m,\u001b[49m\u001b[43m \u001b[49m\u001b[43moutput_file_path\u001b[49m\u001b[43m,\u001b[49m\u001b[43m \u001b[49m\u001b[43mbackground_color\u001b[49m\u001b[43m,\u001b[49m\u001b[43m \u001b[49m\u001b[43mpadding\u001b[49m\n\u001b[1;32m    211\u001b[0m \u001b[43m        \u001b[49m\u001b[43m)\u001b[49m\n\u001b[1;32m    212\u001b[0m \u001b[43m    \u001b[49m\u001b[43m)\u001b[49m\n\u001b[1;32m    213\u001b[0m \u001b[38;5;28;01melif\u001b[39;00m draw_method \u001b[38;5;241m==\u001b[39m MermaidDrawMethod\u001b[38;5;241m.\u001b[39mAPI:\n\u001b[1;32m    214\u001b[0m     img_bytes \u001b[38;5;241m=\u001b[39m _render_mermaid_using_api(\n\u001b[1;32m    215\u001b[0m         mermaid_syntax, output_file_path, background_color\n\u001b[1;32m    216\u001b[0m     )\n",
      "File \u001b[0;32m~/Agility/Training/thanh.nguyendiem/multi-agents-training/3-tutorials/workflow_and_agents/.venv/lib/python3.11/site-packages/nest_asyncio.py:30\u001b[0m, in \u001b[0;36m_patch_asyncio.<locals>.run\u001b[0;34m(main, debug)\u001b[0m\n\u001b[1;32m     28\u001b[0m task \u001b[38;5;241m=\u001b[39m asyncio\u001b[38;5;241m.\u001b[39mensure_future(main)\n\u001b[1;32m     29\u001b[0m \u001b[38;5;28;01mtry\u001b[39;00m:\n\u001b[0;32m---> 30\u001b[0m     \u001b[38;5;28;01mreturn\u001b[39;00m \u001b[43mloop\u001b[49m\u001b[38;5;241;43m.\u001b[39;49m\u001b[43mrun_until_complete\u001b[49m\u001b[43m(\u001b[49m\u001b[43mtask\u001b[49m\u001b[43m)\u001b[49m\n\u001b[1;32m     31\u001b[0m \u001b[38;5;28;01mfinally\u001b[39;00m:\n\u001b[1;32m     32\u001b[0m     \u001b[38;5;28;01mif\u001b[39;00m \u001b[38;5;129;01mnot\u001b[39;00m task\u001b[38;5;241m.\u001b[39mdone():\n",
      "File \u001b[0;32m~/Agility/Training/thanh.nguyendiem/multi-agents-training/3-tutorials/workflow_and_agents/.venv/lib/python3.11/site-packages/nest_asyncio.py:98\u001b[0m, in \u001b[0;36m_patch_loop.<locals>.run_until_complete\u001b[0;34m(self, future)\u001b[0m\n\u001b[1;32m     95\u001b[0m \u001b[38;5;28;01mif\u001b[39;00m \u001b[38;5;129;01mnot\u001b[39;00m f\u001b[38;5;241m.\u001b[39mdone():\n\u001b[1;32m     96\u001b[0m     \u001b[38;5;28;01mraise\u001b[39;00m \u001b[38;5;167;01mRuntimeError\u001b[39;00m(\n\u001b[1;32m     97\u001b[0m         \u001b[38;5;124m'\u001b[39m\u001b[38;5;124mEvent loop stopped before Future completed.\u001b[39m\u001b[38;5;124m'\u001b[39m)\n\u001b[0;32m---> 98\u001b[0m \u001b[38;5;28;01mreturn\u001b[39;00m \u001b[43mf\u001b[49m\u001b[38;5;241;43m.\u001b[39;49m\u001b[43mresult\u001b[49m\u001b[43m(\u001b[49m\u001b[43m)\u001b[49m\n",
      "File \u001b[0;32m~/.local/share/uv/python/cpython-3.11.1-macos-aarch64-none/lib/python3.11/asyncio/futures.py:203\u001b[0m, in \u001b[0;36mFuture.result\u001b[0;34m(self)\u001b[0m\n\u001b[1;32m    201\u001b[0m \u001b[38;5;28mself\u001b[39m\u001b[38;5;241m.\u001b[39m__log_traceback \u001b[38;5;241m=\u001b[39m \u001b[38;5;28;01mFalse\u001b[39;00m\n\u001b[1;32m    202\u001b[0m \u001b[38;5;28;01mif\u001b[39;00m \u001b[38;5;28mself\u001b[39m\u001b[38;5;241m.\u001b[39m_exception \u001b[38;5;129;01mis\u001b[39;00m \u001b[38;5;129;01mnot\u001b[39;00m \u001b[38;5;28;01mNone\u001b[39;00m:\n\u001b[0;32m--> 203\u001b[0m     \u001b[38;5;28;01mraise\u001b[39;00m \u001b[38;5;28mself\u001b[39m\u001b[38;5;241m.\u001b[39m_exception\u001b[38;5;241m.\u001b[39mwith_traceback(\u001b[38;5;28mself\u001b[39m\u001b[38;5;241m.\u001b[39m_exception_tb)\n\u001b[1;32m    204\u001b[0m \u001b[38;5;28;01mreturn\u001b[39;00m \u001b[38;5;28mself\u001b[39m\u001b[38;5;241m.\u001b[39m_result\n",
      "File \u001b[0;32m~/.local/share/uv/python/cpython-3.11.1-macos-aarch64-none/lib/python3.11/asyncio/tasks.py:267\u001b[0m, in \u001b[0;36mTask.__step\u001b[0;34m(***failed resolving arguments***)\u001b[0m\n\u001b[1;32m    263\u001b[0m \u001b[38;5;28;01mtry\u001b[39;00m:\n\u001b[1;32m    264\u001b[0m     \u001b[38;5;28;01mif\u001b[39;00m exc \u001b[38;5;129;01mis\u001b[39;00m \u001b[38;5;28;01mNone\u001b[39;00m:\n\u001b[1;32m    265\u001b[0m         \u001b[38;5;66;03m# We use the `send` method directly, because coroutines\u001b[39;00m\n\u001b[1;32m    266\u001b[0m         \u001b[38;5;66;03m# don't have `__iter__` and `__next__` methods.\u001b[39;00m\n\u001b[0;32m--> 267\u001b[0m         result \u001b[38;5;241m=\u001b[39m \u001b[43mcoro\u001b[49m\u001b[38;5;241;43m.\u001b[39;49m\u001b[43msend\u001b[49m\u001b[43m(\u001b[49m\u001b[38;5;28;43;01mNone\u001b[39;49;00m\u001b[43m)\u001b[49m\n\u001b[1;32m    268\u001b[0m     \u001b[38;5;28;01melse\u001b[39;00m:\n\u001b[1;32m    269\u001b[0m         result \u001b[38;5;241m=\u001b[39m coro\u001b[38;5;241m.\u001b[39mthrow(exc)\n",
      "File \u001b[0;32m~/Agility/Training/thanh.nguyendiem/multi-agents-training/3-tutorials/workflow_and_agents/.venv/lib/python3.11/site-packages/langchain_core/runnables/graph_mermaid.py:240\u001b[0m, in \u001b[0;36m_render_mermaid_using_pyppeteer\u001b[0;34m(mermaid_syntax, output_file_path, background_color, padding, device_scale_factor)\u001b[0m\n\u001b[1;32m    238\u001b[0m \u001b[38;5;28;01mexcept\u001b[39;00m \u001b[38;5;167;01mImportError\u001b[39;00m \u001b[38;5;28;01mas\u001b[39;00m e:\n\u001b[1;32m    239\u001b[0m     msg \u001b[38;5;241m=\u001b[39m \u001b[38;5;124m\"\u001b[39m\u001b[38;5;124mInstall Pyppeteer to use the Pyppeteer method: `pip install pyppeteer`.\u001b[39m\u001b[38;5;124m\"\u001b[39m\n\u001b[0;32m--> 240\u001b[0m     \u001b[38;5;28;01mraise\u001b[39;00m \u001b[38;5;167;01mImportError\u001b[39;00m(msg) \u001b[38;5;28;01mfrom\u001b[39;00m\u001b[38;5;250m \u001b[39m\u001b[38;5;21;01me\u001b[39;00m\n\u001b[1;32m    242\u001b[0m browser \u001b[38;5;241m=\u001b[39m \u001b[38;5;28;01mawait\u001b[39;00m launch()\n\u001b[1;32m    243\u001b[0m page \u001b[38;5;241m=\u001b[39m \u001b[38;5;28;01mawait\u001b[39;00m browser\u001b[38;5;241m.\u001b[39mnewPage()\n",
      "\u001b[0;31mImportError\u001b[0m: Install Pyppeteer to use the Pyppeteer method: `pip install pyppeteer`."
     ]
    }
   ],
   "source": [
    "import nest_asyncio\n",
    "from IPython.display import Image, display\n",
    "\n",
    "nest_asyncio.apply()  # Required for Jupyter Notebook to run async functions\n",
    "\n",
    "display(\n",
    "    Image(\n",
    "        graph.get_graph().draw_mermaid_png(\n",
    "            curve_style=CurveStyle.LINEAR,\n",
    "            node_colors=NodeStyles(first=\"#ffdfba\", last=\"#baffc9\", default=\"#fad7de\"),\n",
    "            wrap_label_n_words=9,\n",
    "            output_file_path=None,\n",
    "            draw_method=MermaidDrawMethod.PYPPETEER,\n",
    "            background_color=\"white\",\n",
    "            padding=10,\n",
    "        )\n",
    "    )\n",
    ")"
   ]
  },
  {
   "cell_type": "markdown",
   "metadata": {},
   "source": [
    "## Use Graphviz"
   ]
  },
  {
   "cell_type": "code",
   "execution_count": null,
   "metadata": {},
   "outputs": [],
   "source": [
    "!uv add --group jupyter --quiet graphviz pygraphviz"
   ]
  },
  {
   "cell_type": "code",
   "execution_count": null,
   "metadata": {},
   "outputs": [],
   "source": [
    "from IPython.display import Image, display\n",
    "from part_2_tools import graph\n",
    "\n",
    "\n",
    "try:\n",
    "    display(Image(graph.get_graph().draw_png()))\n",
    "except ImportError as e:\n",
    "    print(e)\n",
    "    print(\n",
    "        \"You likely need to install dependencies for pygraphviz, see more here https://github.com/pygraphviz/pygraphviz/blob/main/INSTALL.txt\"\n",
    "    )"
   ]
  },
  {
   "cell_type": "markdown",
   "metadata": {},
   "source": [
    "> Issue: Could not install `pygraphviz`\n",
    "Error:\n",
    "```\n",
    "Resolved 1 package in 2ms\n",
    "  × Failed to download and build `pygraphviz==1.14`\n",
    "  ├─▶ Build backend failed to build wheel through `build_wheel`\n",
    "  │   (exit status: 1)\n",
    "\n",
    "  │   [stdout]\n",
    "  │   running bdist_wheel\n",
    "  │   running build\n",
    "  │   running build_py\n",
    "  │   copying pygraphviz/scraper.py ->\n",
    "  │   build/lib.macosx-11.0-arm64-cpython-311/pygraphviz\n",
    "  │   copying pygraphviz/graphviz.py ->\n",
    "  │   build/lib.macosx-11.0-arm64-cpython-311/pygraphviz\n",
    "  │   copying pygraphviz/__init__.py ->\n",
    "  │   build/lib.macosx-11.0-arm64-cpython-311/pygraphviz\n",
    "  │   copying pygraphviz/agraph.py ->\n",
    "  │   build/lib.macosx-11.0-arm64-cpython-311/pygraphviz\n",
    "  │   copying pygraphviz/testing.py ->\n",
    "  │   build/lib.macosx-11.0-arm64-cpython-311/pygraphviz\n",
    "  │   copying pygraphviz/tests/test_unicode.py ->\n",
    "  │   build/lib.macosx-11.0-arm64-cpython-311/pygraphviz/tests\n",
    "  │   copying pygraphviz/tests/test_scraper.py ->\n",
    "  │   build/lib.macosx-11.0-arm64-cpython-311/pygraphviz/tests\n",
    "  │   copying pygraphviz/tests/test_readwrite.py ->\n",
    "  │   build/lib.macosx-11.0-arm64-cpython-311/pygraphviz/tests\n",
    "  │   copying pygraphviz/tests/test_string.py ->\n",
    "  │   build/lib.macosx-11.0-arm64-cpython-311/pygraphviz/tests\n",
    "  │   copying pygraphviz/tests/__init__.py ->\n",
    "  │   build/lib.macosx-11.0-arm64-cpython-311/pygraphviz/tests\n",
    "  │   copying pygraphviz/tests/test_html.py ->\n",
    "  │   build/lib.macosx-11.0-arm64-cpython-311/pygraphviz/tests\n",
    "  │   copying pygraphviz/tests/test_node_attributes.py ->\n",
    "  │   build/lib.macosx-11.0-arm64-cpython-311/pygraphviz/tests\n",
    "  │   copying pygraphviz/tests/test_drawing.py ->\n",
    "  │   build/lib.macosx-11.0-arm64-cpython-311/pygraphviz/tests\n",
    "  │   copying pygraphviz/tests/test_repr_mimebundle.py ->\n",
    "  │   build/lib.macosx-11.0-arm64-cpython-311/pygraphviz/tests\n",
    "  │   copying pygraphviz/tests/test_subgraph.py ->\n",
    "  │   build/lib.macosx-11.0-arm64-cpython-311/pygraphviz/tests\n",
    "  │   copying pygraphviz/tests/test_close.py ->\n",
    "  │   build/lib.macosx-11.0-arm64-cpython-311/pygraphviz/tests\n",
    "  │   copying pygraphviz/tests/test_edge_attributes.py ->\n",
    "  │   build/lib.macosx-11.0-arm64-cpython-311/pygraphviz/tests\n",
    "  │   copying pygraphviz/tests/test_clear.py ->\n",
    "  │   build/lib.macosx-11.0-arm64-cpython-311/pygraphviz/tests\n",
    "  │   copying pygraphviz/tests/test_layout.py ->\n",
    "  │   build/lib.macosx-11.0-arm64-cpython-311/pygraphviz/tests\n",
    "  │   copying pygraphviz/tests/test_attribute_defaults.py ->\n",
    "  │   build/lib.macosx-11.0-arm64-cpython-311/pygraphviz/tests\n",
    "  │   copying pygraphviz/tests/test_graph.py ->\n",
    "  │   build/lib.macosx-11.0-arm64-cpython-311/pygraphviz/tests\n",
    "  │   running egg_info\n",
    "  │   writing pygraphviz.egg-info/PKG-INFO\n",
    "  │   writing dependency_links to\n",
    "  │   pygraphviz.egg-info/dependency_links.txt\n",
    "  │   writing top-level names to\n",
    "  │   pygraphviz.egg-info/top_level.txt\n",
    "  │   reading manifest file 'pygraphviz.egg-info/SOURCES.txt'\n",
    "  │   reading manifest template 'MANIFEST.in'\n",
    "  │   adding license file 'LICENSE'\n",
    "  │   writing manifest file 'pygraphviz.egg-info/SOURCES.txt'\n",
    "  │   copying pygraphviz/graphviz.i ->\n",
    "  │   build/lib.macosx-11.0-arm64-cpython-311/pygraphviz\n",
    "  │   copying pygraphviz/graphviz_wrap.c ->\n",
    "  │   build/lib.macosx-11.0-arm64-cpython-311/pygraphviz\n",
    "  │   running build_ext\n",
    "  │   building 'pygraphviz._graphviz' extension\n",
    "  │   clang -DNDEBUG -g -fwrapv -O3 -Wall -arch arm64\n",
    "  │   -mmacosx-version-min=11.0 -Wno-nullability-completeness\n",
    "  │   -Wno-expansion-to-defined -Wno-undef-prefix -fPIC\n",
    "  │   -I/var/folders/c8/z52g4gc5679gygt8z0dx0jqm0000gn/T/tmpe6a8prsz/tools/deps/include\n",
    "  │   -I/var/folders/c8/z52g4gc5679gygt8z0dx0jqm0000gn/T/tmpe6a8prsz/tools/deps/include/ncursesw\n",
    "  │   -I/var/folders/c8/z52g4gc5679gygt8z0dx0jqm0000gn/T/tmpe6a8prsz/tools/deps/include/uuid\n",
    "  │   -Werror=unguarded-availability-new\n",
    "  │   -DSWIG_PYTHON_STRICT_BYTE_CHAR\n",
    "  │   -I/Users/thanhnguyen/.cache/uv/builds-v0/.tmpSjRoYE/include\n",
    "  │   -I/Users/thanhnguyen/.local/share/uv/python/cpython-3.11.1-macos-aarch64-none/include/python3.11\n",
    "  │   -c pygraphviz/graphviz_wrap.c -o\n",
    "  │   build/temp.macosx-11.0-arm64-cpython-311/pygraphviz/graphviz_wrap.o\n",
    "\n",
    "  │   [stderr]\n",
    "  │   warning: no files found matching '*.swg'\n",
    "  │   warning: no files found matching '*.png' under directory\n",
    "  │   'doc'\n",
    "  │   warning: no files found matching '*.html' under directory\n",
    "  │   'doc'\n",
    "  │   warning: no files found matching '*.txt' under directory\n",
    "  │   'doc'\n",
    "  │   warning: no files found matching '*.css' under directory\n",
    "  │   'doc'\n",
    "  │   warning: no previously-included files matching '*~' found\n",
    "  │   anywhere in distribution\n",
    "  │   warning: no previously-included files matching '*.pyc'\n",
    "  │   found anywhere in distribution\n",
    "  │   warning: no previously-included files matching '.svn'\n",
    "  │   found anywhere in distribution\n",
    "  │   no previously-included directories found matching\n",
    "  │   'doc/build'\n",
    "  │   pygraphviz/graphviz_wrap.c:9:9: warning:\n",
    "  │   'SWIG_PYTHON_STRICT_BYTE_CHAR' macro redefined\n",
    "  │   [-Wmacro-redefined]\n",
    "  │   #define SWIG_PYTHON_STRICT_BYTE_CHAR\n",
    "  │           ^\n",
    "  │   <command line>:2:9: note: previous definition is here\n",
    "  │   #define SWIG_PYTHON_STRICT_BYTE_CHAR 1\n",
    "  │           ^\n",
    "  │   pygraphviz/graphviz_wrap.c:3023:10: fatal error:\n",
    "  │   'graphviz/cgraph.h' file not found\n",
    "  │   #include \"graphviz/cgraph.h\"\n",
    "  │            ^~~~~~~~~~~~~~~~~~~\n",
    "  │   1 warning and 1 error generated.\n",
    "  │   error: command '/usr/bin/clang' failed with exit code 1\n",
    "\n",
    "  ╰─▶ This error likely indicates that you need to install\n",
    "      a library that provides \"graphviz/cgraph.h\" for\n",
    "      pygraphviz@1.14\n",
    "```"
   ]
  }
 ],
 "metadata": {
  "kernelspec": {
   "display_name": ".venv",
   "language": "python",
   "name": "python3"
  },
  "language_info": {
   "codemirror_mode": {
    "name": "ipython",
    "version": 3
   },
   "file_extension": ".py",
   "mimetype": "text/x-python",
   "name": "python",
   "nbconvert_exporter": "python",
   "pygments_lexer": "ipython3",
   "version": "3.11.1"
  }
 },
 "nbformat": 4,
 "nbformat_minor": 2
}
