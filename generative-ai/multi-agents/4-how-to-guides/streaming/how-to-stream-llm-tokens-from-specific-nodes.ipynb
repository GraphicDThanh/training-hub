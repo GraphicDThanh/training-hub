{
 "cells": [
  {
   "cell_type": "markdown",
   "metadata": {},
   "source": [
    "# How to stream LLM tokens from specific nodes\n",
    "- https://langchain-ai.github.io/langgraph/how-tos/streaming-specific-nodes/\n",
    "- A common use case of stream LLM tokens is only stream them from specific nodes. To do so, you can use `stream_mode=\"messages\"` and filter the outputs by the `langgraph_node` field in the streamed metadata"
   ]
  },
  {
   "cell_type": "code",
   "execution_count": 5,
   "metadata": {},
   "outputs": [],
   "source": [
    "from typing import TypedDict\n",
    "from langgraph.graph import START, StateGraph, MessagesState\n",
    "from langchain_openai import ChatOpenAI\n",
    "\n",
    "model = ChatOpenAI(model=\"gpt-4o-mini\")\n",
    "\n",
    "\n",
    "class State(TypedDict):\n",
    "    topic: str\n",
    "    joke: str\n",
    "    poem: str\n",
    "\n",
    "\n",
    "def write_joke(state: State):\n",
    "    topic = state[\"topic\"]\n",
    "    joke_response = model.invoke(\n",
    "        [{\"role\": \"user\", \"content\": f\"Write a joke about {topic}\"}]\n",
    "    )\n",
    "    return {\"joke\": joke_response.content}\n",
    "\n",
    "\n",
    "def write_poem(state: State):\n",
    "    topic = state[\"topic\"]\n",
    "    poem_response = model.invoke(\n",
    "        [{\"role\": \"user\", \"content\": f\"Write a short poem about {topic}\"}]\n",
    "    )\n",
    "    return {\"poem\": poem_response.content}\n",
    "\n",
    "\n",
    "graph = (\n",
    "    StateGraph(State)\n",
    "    .add_node(write_joke)\n",
    "    .add_node(write_poem)\n",
    "    # write both the joke and the poem concurrently\n",
    "    .add_edge(START, \"write_joke\")\n",
    "    .add_edge(START, \"write_poem\")\n",
    "    .compile()\n",
    ")"
   ]
  },
  {
   "cell_type": "code",
   "execution_count": 6,
   "metadata": {},
   "outputs": [
    {
     "name": "stdout",
     "output_type": "stream",
     "text": [
      "In| quiet| shadows|,| soft| and| sleek|,|  \n",
      "|A| whisper| of| grace|,| a| playful| peek|.|  \n",
      "|With| bound|less| leaps| and| gentle| p|urr|s|,|  \n",
      "|In| sun|lit| spots|,| their| magic| st|irs|.|  \n",
      "\n",
      "|Vel|vet| paws| on| midnight|’s| pro|wl|,|  \n",
      "|A| flick| of| tail|,| a| sudden| grow|l|.|  \n",
      "|They| dance| through| dreams| with| silent| po|ise|,|  \n",
      "|Our| furry| friends|,| our| heart|’s| soft| joys|.|  \n",
      "\n",
      "|In| every| n|uzzle|,| every| glance|,|  \n",
      "|They| weave| their| spells|,| they| make| us| dance|.|  \n",
      "|With| feline| charm|,| they| steal| our| days|,|  \n",
      "|In| their| sweet| world|,| we| lose| our| ways|.|  |"
     ]
    }
   ],
   "source": [
    "for msg, metadata in graph.stream(\n",
    "    {\"topic\": \"cats\"},\n",
    "    stream_mode=\"messages\",\n",
    "):\n",
    "    if msg.content and metadata[\"langgraph_node\"] == \"write_poem\":\n",
    "        print(msg.content, end=\"|\", flush=True)"
   ]
  },
  {
   "cell_type": "code",
   "execution_count": null,
   "metadata": {},
   "outputs": [],
   "source": []
  }
 ],
 "metadata": {
  "kernelspec": {
   "display_name": ".venv",
   "language": "python",
   "name": "python3"
  },
  "language_info": {
   "codemirror_mode": {
    "name": "ipython",
    "version": 3
   },
   "file_extension": ".py",
   "mimetype": "text/x-python",
   "name": "python",
   "nbconvert_exporter": "python",
   "pygments_lexer": "ipython3",
   "version": "3.11.1"
  }
 },
 "nbformat": 4,
 "nbformat_minor": 2
}
