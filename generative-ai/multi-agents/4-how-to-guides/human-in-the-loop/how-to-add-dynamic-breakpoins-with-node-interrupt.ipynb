{
 "cells": [
  {
   "cell_type": "markdown",
   "metadata": {},
   "source": [
    "# How to add dynamic breakpoints with NodeInterrupt\n",
    "- https://langchain-ai.github.io/langgraph/how-tos/human_in_the_loop/dynamic_breakpoints/\n",
    "- refer to use `interrupt` function"
   ]
  }
 ],
 "metadata": {
  "language_info": {
   "name": "python"
  }
 },
 "nbformat": 4,
 "nbformat_minor": 2
}
