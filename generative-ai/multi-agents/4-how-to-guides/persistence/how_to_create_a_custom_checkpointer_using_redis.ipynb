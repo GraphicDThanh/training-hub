{
 "cells": [
  {
   "cell_type": "markdown",
   "metadata": {},
   "source": [
    "# How to create a custom checkpointer using Redis\n",
    "https://langchain-ai.github.io/langgraph/how-tos/persistence_redis/"
   ]
  }
 ],
 "metadata": {
  "language_info": {
   "name": "python"
  }
 },
 "nbformat": 4,
 "nbformat_minor": 2
}
