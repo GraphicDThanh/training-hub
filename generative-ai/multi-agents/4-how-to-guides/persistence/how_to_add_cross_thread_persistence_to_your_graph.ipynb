{
 "cells": [
  {
   "cell_type": "markdown",
   "metadata": {},
   "source": [
    "# How to add cross-thread persistence to your graph\n",
    "https://langchain-ai.github.io/langgraph/how-tos/cross-thread-persistence/"
   ]
  }
 ],
 "metadata": {
  "language_info": {
   "name": "python"
  }
 },
 "nbformat": 4,
 "nbformat_minor": 2
}
