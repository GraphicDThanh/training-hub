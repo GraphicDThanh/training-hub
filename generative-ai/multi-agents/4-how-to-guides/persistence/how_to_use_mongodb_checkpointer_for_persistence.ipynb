{
 "cells": [
  {
   "cell_type": "markdown",
   "metadata": {},
   "source": [
    "# How to use MongoDB checkpointer for persistence\n",
    "https://langchain-ai.github.io/langgraph/how-tos/persistence_mongodb/"
   ]
  }
 ],
 "metadata": {
  "language_info": {
   "name": "python"
  }
 },
 "nbformat": 4,
 "nbformat_minor": 2
}
