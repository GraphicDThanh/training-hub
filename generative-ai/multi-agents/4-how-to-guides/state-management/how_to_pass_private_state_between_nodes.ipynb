{
 "cells": [
  {
   "cell_type": "markdown",
   "metadata": {},
   "source": [
    "# How to pass private state between nodes\n",
    "https://langchain-ai.github.io/langgraph/how-tos/pass_private_state/\n",
    "\n",
    "> In some cases, you may want nodes to exchange information that is crucial for intermediate logic but doesn’t need to be part of the main schema of the graph. This private data is not relevant to the overall input/output of the graph and should only be shared between certain nodes."
   ]
  },
  {
   "cell_type": "code",
   "execution_count": 1,
   "metadata": {},
   "outputs": [
    {
     "name": "stdout",
     "output_type": "stream",
     "text": [
      "Entered node `node_1`:\n",
      "\tInput: {'a': 'set at start'}.\n",
      "\tReturned: {'private_data': 'set by node_1'}\n",
      "Entered node `node_2`:\n",
      "\tInput: {'private_data': 'set by node_1'}.\n",
      "\tReturned: {'a': 'set by node_2'}\n",
      "Entered node `node_3`:\n",
      "\tInput: {'a': 'set by node_2'}.\n",
      "\tReturned: {'a': 'set by node_3'}\n",
      "\n",
      "Output of graph invocation: {'a': 'set by node_3'}\n"
     ]
    }
   ],
   "source": [
    "from langgraph.graph import StateGraph, START, END\n",
    "from typing_extensions import TypedDict\n",
    "\n",
    "\n",
    "# The overall state of the graph (this is the public state shared across nodes)\n",
    "class OverallState(TypedDict):\n",
    "    a: str\n",
    "\n",
    "\n",
    "# Output from node_1 contains private data that is not part of the overall state\n",
    "class Node1Output(TypedDict):\n",
    "    private_data: str\n",
    "\n",
    "\n",
    "# The private data is only shared between node_1 and node_2\n",
    "def node_1(state: OverallState) -> Node1Output:\n",
    "    output = {\"private_data\": \"set by node_1\"}\n",
    "    print(f\"Entered node `node_1`:\\n\\tInput: {state}.\\n\\tReturned: {output}\")\n",
    "    return output\n",
    "\n",
    "\n",
    "# Node 2 input only requests the private data available after node_1\n",
    "class Node2Input(TypedDict):\n",
    "    private_data: str\n",
    "\n",
    "\n",
    "def node_2(state: Node2Input) -> OverallState:\n",
    "    output = {\"a\": \"set by node_2\"}\n",
    "    print(f\"Entered node `node_2`:\\n\\tInput: {state}.\\n\\tReturned: {output}\")\n",
    "    return output\n",
    "\n",
    "\n",
    "# Node 3 only has access to the overall state (no access to private data from node_1)\n",
    "def node_3(state: OverallState) -> OverallState:\n",
    "    output = {\"a\": \"set by node_3\"}\n",
    "    print(f\"Entered node `node_3`:\\n\\tInput: {state}.\\n\\tReturned: {output}\")\n",
    "    return output\n",
    "\n",
    "\n",
    "# Build the state graph\n",
    "builder = StateGraph(OverallState)\n",
    "builder.add_node(node_1)  # node_1 is the first node\n",
    "builder.add_node(\n",
    "    node_2\n",
    ")  # node_2 is the second node and accepts private data from node_1\n",
    "builder.add_node(node_3)  # node_3 is the third node and does not see the private data\n",
    "builder.add_edge(START, \"node_1\")  # Start the graph with node_1\n",
    "builder.add_edge(\"node_1\", \"node_2\")  # Pass from node_1 to node_2\n",
    "builder.add_edge(\n",
    "    \"node_2\", \"node_3\"\n",
    ")  # Pass from node_2 to node_3 (only overall state is shared)\n",
    "builder.add_edge(\"node_3\", END)  # End the graph after node_3\n",
    "graph = builder.compile()\n",
    "\n",
    "# Invoke the graph with the initial state\n",
    "response = graph.invoke(\n",
    "    {\n",
    "        \"a\": \"set at start\",\n",
    "    }\n",
    ")\n",
    "\n",
    "print()\n",
    "print(f\"Output of graph invocation: {response}\")"
   ]
  }
 ],
 "metadata": {
  "kernelspec": {
   "display_name": ".venv",
   "language": "python",
   "name": "python3"
  },
  "language_info": {
   "codemirror_mode": {
    "name": "ipython",
    "version": 3
   },
   "file_extension": ".py",
   "mimetype": "text/x-python",
   "name": "python",
   "nbconvert_exporter": "python",
   "pygments_lexer": "ipython3",
   "version": "3.11.1"
  }
 },
 "nbformat": 4,
 "nbformat_minor": 2
}
