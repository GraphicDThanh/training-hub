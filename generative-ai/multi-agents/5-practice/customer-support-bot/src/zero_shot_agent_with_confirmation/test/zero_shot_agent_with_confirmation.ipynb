{
 "cells": [
  {
   "cell_type": "markdown",
   "metadata": {},
   "source": [
    "# Zero-shot Agent with Confirmation"
   ]
  },
  {
   "cell_type": "code",
   "execution_count": null,
   "metadata": {},
   "outputs": [
    {
     "name": "stdout",
     "output_type": "stream",
     "text": [
      "sys.path::: ['/Users/thanhnguyen/.local/share/uv/python/cpython-3.11.1-macos-aarch64-none/lib/python311.zip', '/Users/thanhnguyen/.local/share/uv/python/cpython-3.11.1-macos-aarch64-none/lib/python3.11', '/Users/thanhnguyen/.local/share/uv/python/cpython-3.11.1-macos-aarch64-none/lib/python3.11/lib-dynload', '', '/Users/thanhnguyen/Agility/Training/thanh.nguyendiem/multi-agents-training/5-practice/customer-support-bot/.venv/lib/python3.11/site-packages', '..', '../..']\n"
     ]
    },
    {
     "data": {
      "image/png": "[encoded data removed]",
      "text/plain": [
       "<IPython.core.display.Image object>"
      ]
     },
     "metadata": {},
     "output_type": "display_data"
    }
   ],
   "source": [
    "# allow import\n",
    "import sys\n",
    "sys.path.append('../..')\n",
    "from IPython.display import Image, display\n",
    "from zero_shot_agent_with_confirmation.graph import graph\n",
    "\n",
    "try:\n",
    "    display(Image(graph.get_graph(xray=True).draw_mermaid_png()))\n",
    "except Exception:\n",
    "    # This requires some extra dependencies and is optional\n",
    "    pass"
   ]
  },
  {
   "cell_type": "markdown",
   "metadata": {},
   "source": [
    "## Example conversation"
   ]
  },
  {
   "cell_type": "code",
   "execution_count": null,
   "metadata": {},
   "outputs": [],
   "source": [
    "import shutil\n",
    "import uuid\n",
    "from scripts.populate_db import update_dates\n",
    "from utils.debug import _print_event\n",
    "\n",
    "\n",
    "# Let's create an example conversation a user might have with the assistant\n",
    "tutorial_questions = [\n",
    "    \"Hi there, what time is my flight?\",\n",
    "    # \"Am i allowed to update my flight to something sooner? I want to leave later today.\",\n",
    "    # \"Update my flight to sometime next week then\",\n",
    "    # \"The next available option is great\",\n",
    "    # \"what about lodging and transportation?\",\n",
    "    # \"Yeah i think i'd like an affordable hotel for my week-long stay (7 days). And I'll want to rent a car.\",\n",
    "    # \"OK could you place a reservation for your recommended hotel? It sounds nice.\",\n",
    "    # \"yes go ahead and book anything that's moderate expense and has availability.\",\n",
    "    # \"Now for a car, what are my options?\",\n",
    "    # \"Awesome let's just get the cheapest option. Go ahead and book for 7 days\",\n",
    "    # \"Cool so now what recommendations do you have on excursions?\",\n",
    "    # \"Are they available while I'm there?\",\n",
    "    # \"interesting - i like the museums, what options are there? \",\n",
    "    # \"OK great pick one and book it for my second day there.\",\n",
    "]\n",
    "\n",
    "# Update with the backup file so we can restart from the original place in each section\n",
    "db = update_dates(\"travel2.sqlite\")\n",
    "thread_id = str(uuid.uuid4())\n",
    "\n",
    "config = {\n",
    "    \"configurable\": {\n",
    "        # The passenger_id is used in our flight tools too\n",
    "        # fetch the user's flight information\n",
    "        \"passenger_id\": \"3442 587242\",\n",
    "        # Checkpoints are accessed by thread_id\n",
    "        \"thread_id\": thread_id,\n",
    "    }\n",
    "}\n",
    "\n",
    "_printed = set()\n",
    "for question in tutorial_questions:\n",
    "    events = graph.stream(\n",
    "        {\"messages\": (\"user\", question)}, config, stream_mode=\"values\"\n",
    "    )\n",
    "    for event in events:\n",
    "        _print_event(event, _printed)"
   ]
  },
  {
   "cell_type": "code",
   "execution_count": null,
   "metadata": {},
   "outputs": [],
   "source": []
  }
 ],
 "metadata": {
  "kernelspec": {
   "display_name": ".venv",
   "language": "python",
   "name": "python3"
  },
  "language_info": {
   "codemirror_mode": {
    "name": "ipython",
    "version": 3
   },
   "file_extension": ".py",
   "mimetype": "text/x-python",
   "name": "python",
   "nbconvert_exporter": "python",
   "pygments_lexer": "ipython3",
   "version": "3.11.1"
  }
 },
 "nbformat": 4,
 "nbformat_minor": 2
}
